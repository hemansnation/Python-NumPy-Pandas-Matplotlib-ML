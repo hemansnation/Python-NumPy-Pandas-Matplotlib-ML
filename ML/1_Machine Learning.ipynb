{
 "cells": [
  {
   "cell_type": "code",
   "execution_count": null,
   "id": "1c99a5a7",
   "metadata": {},
   "outputs": [],
   "source": [
    "Machine Learning's Mathematical Pillars\n",
    "\n",
    "- Statistics\n",
    "- Linear Algebra\n",
    "- Calculus\n",
    "- Probability"
   ]
  },
  {
   "cell_type": "code",
   "execution_count": null,
   "id": "cc073943",
   "metadata": {},
   "outputs": [],
   "source": [
    "                                Machine Learning\n",
    "    Supervised                      Unsupervised                  Reinforcement\n",
    "    Learning                         Learning                     Learning\n",
    "Regression    Classification   Clustring  Dimension  Anomaly          Markov\n",
    "                                          reduction  Detection        Decision\n",
    "                                                                      Process\n",
    "- Linear Regression                - k-means clustering\n",
    "- Logistic Regression              - PCA(Principal Component\n",
    "- k-nearest neighbour                        Analysis)\n",
    "- Support Vector Machines(SVM)     - Autoencoders\n",
    "- Decision Trees\n",
    "- Random Forest\n",
    "- AdaBoost\n",
    "- Neural Network(Deep Learning)\n",
    "    - CNN\n",
    "    - RNN"
   ]
  },
  {
   "cell_type": "markdown",
   "id": "4ca7b1f1",
   "metadata": {},
   "source": [
    "https://www.google.com/search?q=maze+game&sxsrf=APq-WBtRrE3tY99lwk0Xsp_29meJvGZNvA:1649306471498&source=lnms&tbm=isch&sa=X&ved=2ahUKEwiezu-ykYH3AhW8xDgGHcRLDa8Q_AUoAXoECAEQAw&biw=1600&bih=757#imgrc=1kxJXc_paBQ57M\n",
    "\n",
    "\n",
    "\n",
    "\n",
    "Artificial Intelligence: A Modern Approach\n",
    "\n",
    "\n",
    "\n",
    "\n",
    "https://www.google.com/search?q=clustering&sxsrf=APq-WBuB-xqWzzoNto0WojkAvXDLE8ywBA:1649307793182&source=lnms&tbm=isch&sa=X&ved=2ahUKEwih9IyploH3AhWySGwGHSzIBS4Q_AUoAXoECAIQAw&biw=1600&bih=757#imgrc=BOphoLQ0t9BnrM\n",
    "\n",
    "\n",
    "\n",
    "https://this-person-does-not-exist.com/en\n",
    "\n",
    "\n",
    "\n"
   ]
  },
  {
   "cell_type": "code",
   "execution_count": null,
   "id": "3053dc53",
   "metadata": {},
   "outputs": [],
   "source": []
  },
  {
   "cell_type": "code",
   "execution_count": null,
   "id": "aba57973",
   "metadata": {},
   "outputs": [],
   "source": []
  }
 ],
 "metadata": {
  "kernelspec": {
   "display_name": "Python 3",
   "language": "python",
   "name": "python3"
  },
  "language_info": {
   "codemirror_mode": {
    "name": "ipython",
    "version": 3
   },
   "file_extension": ".py",
   "mimetype": "text/x-python",
   "name": "python",
   "nbconvert_exporter": "python",
   "pygments_lexer": "ipython3",
   "version": "3.8.10"
  }
 },
 "nbformat": 4,
 "nbformat_minor": 5
}
