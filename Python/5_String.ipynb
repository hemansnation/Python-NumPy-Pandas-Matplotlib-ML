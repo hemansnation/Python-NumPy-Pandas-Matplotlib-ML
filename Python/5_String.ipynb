{
 "cells": [
  {
   "cell_type": "markdown",
   "id": "04f08682",
   "metadata": {},
   "source": [
    "# Strings"
   ]
  },
  {
   "cell_type": "code",
   "execution_count": 1,
   "id": "cb97d15c",
   "metadata": {},
   "outputs": [
    {
     "name": "stdout",
     "output_type": "stream",
     "text": [
      "Indore\n"
     ]
    }
   ],
   "source": [
    "s = \"Indore\"\n",
    "print(s)"
   ]
  },
  {
   "cell_type": "code",
   "execution_count": 2,
   "id": "699f5fbe",
   "metadata": {},
   "outputs": [
    {
     "name": "stdout",
     "output_type": "stream",
     "text": [
      "goa\n"
     ]
    }
   ],
   "source": [
    "p = 'goa'\n",
    "print(p)"
   ]
  },
  {
   "cell_type": "code",
   "execution_count": 3,
   "id": "535d96fe",
   "metadata": {},
   "outputs": [
    {
     "name": "stdout",
     "output_type": "stream",
     "text": [
      "<class 'str'>\n",
      "<class 'str'>\n"
     ]
    }
   ],
   "source": [
    "print(type(s))\n",
    "print(type(p))"
   ]
  },
  {
   "cell_type": "code",
   "execution_count": 4,
   "id": "b8acb6bf",
   "metadata": {},
   "outputs": [
    {
     "name": "stdout",
     "output_type": "stream",
     "text": [
      "<class 'str'>\n"
     ]
    }
   ],
   "source": [
    "a = \"10.5\"\n",
    "print(type(a))"
   ]
  },
  {
   "cell_type": "code",
   "execution_count": 5,
   "id": "7f320e9c",
   "metadata": {},
   "outputs": [
    {
     "name": "stdout",
     "output_type": "stream",
     "text": [
      "I\n"
     ]
    }
   ],
   "source": [
    "s = \"Indore\"\n",
    "#    012345\n",
    "\n",
    "print(s[0])"
   ]
  },
  {
   "cell_type": "code",
   "execution_count": 6,
   "id": "3fda9ece",
   "metadata": {},
   "outputs": [
    {
     "data": {
      "text/plain": [
       "'o'"
      ]
     },
     "execution_count": 6,
     "metadata": {},
     "output_type": "execute_result"
    }
   ],
   "source": [
    "s[3]"
   ]
  },
  {
   "cell_type": "code",
   "execution_count": 7,
   "id": "adc6777e",
   "metadata": {},
   "outputs": [
    {
     "ename": "TypeError",
     "evalue": "'str' object does not support item assignment",
     "output_type": "error",
     "traceback": [
      "\u001b[1;31m---------------------------------------------------------------------------\u001b[0m",
      "\u001b[1;31mTypeError\u001b[0m                                 Traceback (most recent call last)",
      "\u001b[1;32m<ipython-input-7-c3d7e7b800de>\u001b[0m in \u001b[0;36m<module>\u001b[1;34m\u001b[0m\n\u001b[1;32m----> 1\u001b[1;33m \u001b[0ms\u001b[0m\u001b[1;33m[\u001b[0m\u001b[1;36m0\u001b[0m\u001b[1;33m]\u001b[0m \u001b[1;33m=\u001b[0m \u001b[1;34m\"A\"\u001b[0m\u001b[1;33m\u001b[0m\u001b[1;33m\u001b[0m\u001b[0m\n\u001b[0m",
      "\u001b[1;31mTypeError\u001b[0m: 'str' object does not support item assignment"
     ]
    }
   ],
   "source": [
    "s[0] = \"A\"   # strings are immutable objects"
   ]
  },
  {
   "cell_type": "code",
   "execution_count": 8,
   "id": "0e7f9333",
   "metadata": {},
   "outputs": [
    {
     "name": "stdout",
     "output_type": "stream",
     "text": [
      "Goa\n"
     ]
    }
   ],
   "source": [
    "s = \"Goa\"\n",
    "print(s)"
   ]
  },
  {
   "cell_type": "markdown",
   "id": "ec7a9d62",
   "metadata": {},
   "source": [
    "# String Slicing"
   ]
  },
  {
   "cell_type": "code",
   "execution_count": 9,
   "id": "336dfb82",
   "metadata": {},
   "outputs": [],
   "source": [
    "#               -1\n",
    "s = \"communication\"\n",
    "#    0"
   ]
  },
  {
   "cell_type": "code",
   "execution_count": 10,
   "id": "c80ebe29",
   "metadata": {},
   "outputs": [
    {
     "data": {
      "text/plain": [
       "'com'"
      ]
     },
     "execution_count": 10,
     "metadata": {},
     "output_type": "execute_result"
    }
   ],
   "source": [
    "s[0:3]"
   ]
  },
  {
   "cell_type": "code",
   "execution_count": 11,
   "id": "93bc3ecb",
   "metadata": {},
   "outputs": [
    {
     "data": {
      "text/plain": [
       "'n'"
      ]
     },
     "execution_count": 11,
     "metadata": {},
     "output_type": "execute_result"
    }
   ],
   "source": [
    "s[-1]"
   ]
  },
  {
   "cell_type": "code",
   "execution_count": 12,
   "id": "21bcfef4",
   "metadata": {},
   "outputs": [
    {
     "data": {
      "text/plain": [
       "'comm'"
      ]
     },
     "execution_count": 12,
     "metadata": {},
     "output_type": "execute_result"
    }
   ],
   "source": [
    "s[0:4]"
   ]
  },
  {
   "cell_type": "code",
   "execution_count": 13,
   "id": "60a911b0",
   "metadata": {},
   "outputs": [
    {
     "data": {
      "text/plain": [
       "'communication'"
      ]
     },
     "execution_count": 13,
     "metadata": {},
     "output_type": "execute_result"
    }
   ],
   "source": [
    "s"
   ]
  },
  {
   "cell_type": "code",
   "execution_count": 14,
   "id": "e6303605",
   "metadata": {},
   "outputs": [
    {
     "data": {
      "text/plain": [
       "'munic'"
      ]
     },
     "execution_count": 14,
     "metadata": {},
     "output_type": "execute_result"
    }
   ],
   "source": [
    "s[3:8]"
   ]
  },
  {
   "cell_type": "code",
   "execution_count": 15,
   "id": "014c016b",
   "metadata": {},
   "outputs": [
    {
     "data": {
      "text/plain": [
       "''"
      ]
     },
     "execution_count": 15,
     "metadata": {},
     "output_type": "execute_result"
    }
   ],
   "source": [
    "s[8:3]"
   ]
  },
  {
   "cell_type": "code",
   "execution_count": 16,
   "id": "2ff943e4",
   "metadata": {},
   "outputs": [
    {
     "name": "stdout",
     "output_type": "stream",
     "text": [
      "<class 'str'>\n"
     ]
    }
   ],
   "source": [
    "s = ''\n",
    "print(type(s))"
   ]
  },
  {
   "cell_type": "code",
   "execution_count": 18,
   "id": "c63798aa",
   "metadata": {},
   "outputs": [
    {
     "data": {
      "text/plain": [
       "'nication'"
      ]
     },
     "execution_count": 18,
     "metadata": {},
     "output_type": "execute_result"
    }
   ],
   "source": [
    "s = \"communication\"\n",
    "s[5:]"
   ]
  },
  {
   "cell_type": "code",
   "execution_count": 19,
   "id": "eaf72b05",
   "metadata": {},
   "outputs": [
    {
     "name": "stdout",
     "output_type": "stream",
     "text": [
      "communication\n"
     ]
    }
   ],
   "source": [
    "print(s[:])"
   ]
  },
  {
   "cell_type": "code",
   "execution_count": 20,
   "id": "c70777db",
   "metadata": {},
   "outputs": [
    {
     "data": {
      "text/plain": [
       "''"
      ]
     },
     "execution_count": 20,
     "metadata": {},
     "output_type": "execute_result"
    }
   ],
   "source": [
    "s[-7:-11]"
   ]
  },
  {
   "cell_type": "code",
   "execution_count": 21,
   "id": "475da2e5",
   "metadata": {},
   "outputs": [
    {
     "data": {
      "text/plain": [
       "'icatio'"
      ]
     },
     "execution_count": 21,
     "metadata": {},
     "output_type": "execute_result"
    }
   ],
   "source": [
    "s[-7:-1]"
   ]
  },
  {
   "cell_type": "code",
   "execution_count": 22,
   "id": "206fc431",
   "metadata": {},
   "outputs": [
    {
     "data": {
      "text/plain": [
       "'cmuiain'"
      ]
     },
     "execution_count": 22,
     "metadata": {},
     "output_type": "execute_result"
    }
   ],
   "source": [
    "s[::2]"
   ]
  },
  {
   "cell_type": "code",
   "execution_count": 23,
   "id": "99927150",
   "metadata": {},
   "outputs": [
    {
     "data": {
      "text/plain": [
       "'noitacinummoc'"
      ]
     },
     "execution_count": 23,
     "metadata": {},
     "output_type": "execute_result"
    }
   ],
   "source": [
    "s[::-1]"
   ]
  },
  {
   "cell_type": "markdown",
   "id": "a9e2d3c2",
   "metadata": {},
   "source": [
    "# String Functions"
   ]
  },
  {
   "cell_type": "code",
   "execution_count": 1,
   "id": "1b12efbf",
   "metadata": {},
   "outputs": [
    {
     "name": "stdout",
     "output_type": "stream",
     "text": [
      "6\n"
     ]
    }
   ],
   "source": [
    "s = \"Indore\"\n",
    "\n",
    "print(len(s))"
   ]
  },
  {
   "cell_type": "code",
   "execution_count": 2,
   "id": "3ce948b6",
   "metadata": {},
   "outputs": [
    {
     "name": "stdout",
     "output_type": "stream",
     "text": [
      "r\n"
     ]
    }
   ],
   "source": [
    "print(max(s))"
   ]
  },
  {
   "cell_type": "code",
   "execution_count": 3,
   "id": "e6d28e19",
   "metadata": {},
   "outputs": [
    {
     "name": "stdout",
     "output_type": "stream",
     "text": [
      "I\n"
     ]
    }
   ],
   "source": [
    "print(min(s))"
   ]
  },
  {
   "cell_type": "code",
   "execution_count": 4,
   "id": "1bc848b4",
   "metadata": {},
   "outputs": [
    {
     "ename": "TypeError",
     "evalue": "unsupported operand type(s) for +: 'int' and 'str'",
     "output_type": "error",
     "traceback": [
      "\u001b[1;31m---------------------------------------------------------------------------\u001b[0m",
      "\u001b[1;31mTypeError\u001b[0m                                 Traceback (most recent call last)",
      "\u001b[1;32m<ipython-input-4-09c2c04bb2d7>\u001b[0m in \u001b[0;36m<module>\u001b[1;34m\u001b[0m\n\u001b[1;32m----> 1\u001b[1;33m \u001b[0mprint\u001b[0m\u001b[1;33m(\u001b[0m\u001b[0msum\u001b[0m\u001b[1;33m(\u001b[0m\u001b[0ms\u001b[0m\u001b[1;33m)\u001b[0m\u001b[1;33m)\u001b[0m\u001b[1;33m\u001b[0m\u001b[1;33m\u001b[0m\u001b[0m\n\u001b[0m",
      "\u001b[1;31mTypeError\u001b[0m: unsupported operand type(s) for +: 'int' and 'str'"
     ]
    }
   ],
   "source": [
    "print(sum(s))"
   ]
  },
  {
   "cell_type": "markdown",
   "id": "c7ee28c7",
   "metadata": {},
   "source": [
    "# String Methods\n",
    "\n",
    "#### join"
   ]
  },
  {
   "cell_type": "code",
   "execution_count": 6,
   "id": "f3a902e4",
   "metadata": {},
   "outputs": [
    {
     "data": {
      "text/plain": [
       "'1$2$cat'"
      ]
     },
     "execution_count": 6,
     "metadata": {},
     "output_type": "execute_result"
    }
   ],
   "source": [
    "s = \"$\"\n",
    "\n",
    "n = s.join([\"1\",\"2\",\"cat\"])\n",
    "\n",
    "n"
   ]
  },
  {
   "cell_type": "code",
   "execution_count": 7,
   "id": "b459cd21",
   "metadata": {},
   "outputs": [
    {
     "data": {
      "text/plain": [
       "'$'"
      ]
     },
     "execution_count": 7,
     "metadata": {},
     "output_type": "execute_result"
    }
   ],
   "source": [
    "n[1]"
   ]
  },
  {
   "cell_type": "code",
   "execution_count": 8,
   "id": "7147de3b",
   "metadata": {},
   "outputs": [
    {
     "data": {
      "text/plain": [
       "'A+B+Z+goa'"
      ]
     },
     "execution_count": 8,
     "metadata": {},
     "output_type": "execute_result"
    }
   ],
   "source": [
    "\"+\".join([\"A\",\"B\",\"Z\",\"goa\"])"
   ]
  },
  {
   "cell_type": "code",
   "execution_count": 9,
   "id": "eb2f5eef",
   "metadata": {},
   "outputs": [
    {
     "data": {
      "text/plain": [
       "'A B Z goa'"
      ]
     },
     "execution_count": 9,
     "metadata": {},
     "output_type": "execute_result"
    }
   ],
   "source": [
    "\" \".join([\"A\",\"B\",\"Z\",\"goa\"])"
   ]
  },
  {
   "cell_type": "code",
   "execution_count": 10,
   "id": "1c67639d",
   "metadata": {},
   "outputs": [
    {
     "data": {
      "text/plain": [
       "'ABZgoa'"
      ]
     },
     "execution_count": 10,
     "metadata": {},
     "output_type": "execute_result"
    }
   ],
   "source": [
    "\"\".join([\"A\",\"B\",\"Z\",\"goa\"])"
   ]
  },
  {
   "cell_type": "markdown",
   "id": "1ce684f2",
   "metadata": {},
   "source": [
    "#### replace"
   ]
  },
  {
   "cell_type": "code",
   "execution_count": 11,
   "id": "40fdad49",
   "metadata": {},
   "outputs": [
    {
     "data": {
      "text/plain": [
       "'Oye Hoye'"
      ]
     },
     "execution_count": 11,
     "metadata": {},
     "output_type": "execute_result"
    }
   ],
   "source": [
    "s = \"Oye Hi\"\n",
    "\n",
    "s.replace(\"Hi\", \"Hoye\")"
   ]
  },
  {
   "cell_type": "code",
   "execution_count": 12,
   "id": "1f6e7b37",
   "metadata": {},
   "outputs": [
    {
     "data": {
      "text/plain": [
       "'rohit is the best. rohit is a cricketer'"
      ]
     },
     "execution_count": 12,
     "metadata": {},
     "output_type": "execute_result"
    }
   ],
   "source": [
    "s = \"virat is the best. virat is a cricketer\"\n",
    "\n",
    "s.replace('virat', 'rohit')"
   ]
  },
  {
   "cell_type": "code",
   "execution_count": 13,
   "id": "227fb3da",
   "metadata": {},
   "outputs": [],
   "source": [
    "s.replace?"
   ]
  },
  {
   "cell_type": "code",
   "execution_count": 14,
   "id": "f1bae678",
   "metadata": {},
   "outputs": [
    {
     "name": "stdout",
     "output_type": "stream",
     "text": [
      "Help on built-in function replace:\n",
      "\n",
      "replace(old, new, count=-1, /) method of builtins.str instance\n",
      "    Return a copy with all occurrences of substring old replaced by new.\n",
      "    \n",
      "      count\n",
      "        Maximum number of occurrences to replace.\n",
      "        -1 (the default value) means replace all occurrences.\n",
      "    \n",
      "    If the optional argument count is given, only the first count occurrences are\n",
      "    replaced.\n",
      "\n"
     ]
    }
   ],
   "source": [
    "help(s.replace)"
   ]
  },
  {
   "cell_type": "code",
   "execution_count": 15,
   "id": "88ee1d3d",
   "metadata": {},
   "outputs": [
    {
     "data": {
      "text/plain": [
       "'rohit is the best. virat is a cricketer'"
      ]
     },
     "execution_count": 15,
     "metadata": {},
     "output_type": "execute_result"
    }
   ],
   "source": [
    "s = \"virat is the best. virat is a cricketer\"\n",
    "\n",
    "s.replace('virat', 'rohit', 1)"
   ]
  },
  {
   "cell_type": "markdown",
   "id": "b2a51230",
   "metadata": {},
   "source": [
    "#### upper and lower"
   ]
  },
  {
   "cell_type": "code",
   "execution_count": 16,
   "id": "48178926",
   "metadata": {},
   "outputs": [
    {
     "name": "stdout",
     "output_type": "stream",
     "text": [
      "INDIA\n"
     ]
    }
   ],
   "source": [
    "a = \"India\"\n",
    "\n",
    "print(a.upper())"
   ]
  },
  {
   "cell_type": "code",
   "execution_count": 17,
   "id": "6b19b0aa",
   "metadata": {},
   "outputs": [
    {
     "name": "stdout",
     "output_type": "stream",
     "text": [
      "india\n"
     ]
    }
   ],
   "source": [
    "print(a.lower())"
   ]
  },
  {
   "cell_type": "markdown",
   "id": "79c7e675",
   "metadata": {},
   "source": [
    "#### split"
   ]
  },
  {
   "cell_type": "code",
   "execution_count": 18,
   "id": "6ffa8223",
   "metadata": {},
   "outputs": [
    {
     "name": "stdout",
     "output_type": "stream",
     "text": [
      "['Hello', 'world', 'is', 'the', 'best']\n"
     ]
    }
   ],
   "source": [
    "s = \"Hello world is the best\"\n",
    "\n",
    "print(s.split(\" \"))"
   ]
  },
  {
   "cell_type": "code",
   "execution_count": 19,
   "id": "f104d0a0",
   "metadata": {},
   "outputs": [
    {
     "name": "stdout",
     "output_type": "stream",
     "text": [
      "['Hello ', 'orld is the best']\n"
     ]
    }
   ],
   "source": [
    "s = \"Hello world is the best\"\n",
    "\n",
    "print(s.split(\"w\"))"
   ]
  },
  {
   "cell_type": "code",
   "execution_count": 21,
   "id": "4496c2c2",
   "metadata": {},
   "outputs": [
    {
     "name": "stdout",
     "output_type": "stream",
     "text": [
      "['1', '2', '3', '4', '5']\n"
     ]
    }
   ],
   "source": [
    "r = \"1+2+3+4+5\"\n",
    "\n",
    "d = r.split(\"+\")\n",
    "print(d)"
   ]
  },
  {
   "cell_type": "code",
   "execution_count": 22,
   "id": "7e923c76",
   "metadata": {},
   "outputs": [
    {
     "ename": "TypeError",
     "evalue": "unsupported operand type(s) for +: 'int' and 'str'",
     "output_type": "error",
     "traceback": [
      "\u001b[1;31m---------------------------------------------------------------------------\u001b[0m",
      "\u001b[1;31mTypeError\u001b[0m                                 Traceback (most recent call last)",
      "\u001b[1;32m<ipython-input-22-3b8b3f92adcf>\u001b[0m in \u001b[0;36m<module>\u001b[1;34m\u001b[0m\n\u001b[1;32m----> 1\u001b[1;33m \u001b[0msum\u001b[0m\u001b[1;33m(\u001b[0m\u001b[0md\u001b[0m\u001b[1;33m)\u001b[0m\u001b[1;33m\u001b[0m\u001b[1;33m\u001b[0m\u001b[0m\n\u001b[0m",
      "\u001b[1;31mTypeError\u001b[0m: unsupported operand type(s) for +: 'int' and 'str'"
     ]
    }
   ],
   "source": [
    "sum(d)"
   ]
  },
  {
   "cell_type": "code",
   "execution_count": null,
   "id": "370b8cf0",
   "metadata": {},
   "outputs": [],
   "source": [
    "\"1+2*3/4-5\""
   ]
  },
  {
   "cell_type": "markdown",
   "id": "69689796",
   "metadata": {},
   "source": [
    "# Questions\n",
    "\n",
    "\n",
    "**WAP to enter a string from user and print length of it**"
   ]
  },
  {
   "cell_type": "code",
   "execution_count": 23,
   "id": "2e366f1e",
   "metadata": {},
   "outputs": [
    {
     "name": "stdout",
     "output_type": "stream",
     "text": [
      "6\n"
     ]
    }
   ],
   "source": [
    "s = \"Indore\"\n",
    "\n",
    "print(len(s))"
   ]
  },
  {
   "cell_type": "code",
   "execution_count": null,
   "id": "f59e0469",
   "metadata": {},
   "outputs": [],
   "source": [
    "\"indore\"\n",
    "\n",
    "len <= 2\n",
    "\"empty string\"\n",
    "\n",
    "\"inre\""
   ]
  },
  {
   "cell_type": "code",
   "execution_count": null,
   "id": "47bc50a2",
   "metadata": {},
   "outputs": [],
   "source": [
    "\"abc\"\n",
    "\n",
    "\"abbc\""
   ]
  },
  {
   "cell_type": "code",
   "execution_count": 26,
   "id": "b50eec2d",
   "metadata": {},
   "outputs": [
    {
     "name": "stdout",
     "output_type": "stream",
     "text": [
      "Enter a string: indore\n",
      "inre\n"
     ]
    }
   ],
   "source": [
    "n = input(\"Enter a string: \")\n",
    "\n",
    "if len(n) <= 2:\n",
    "    print(\"Empty String\")\n",
    "else:\n",
    "    print(n[:2] + n[-2:])"
   ]
  },
  {
   "cell_type": "code",
   "execution_count": null,
   "id": "fe8695a9",
   "metadata": {},
   "outputs": [],
   "source": [
    "\"restart\"\n",
    "\n",
    "\"resta@t\""
   ]
  },
  {
   "cell_type": "code",
   "execution_count": null,
   "id": "989a58ad",
   "metadata": {},
   "outputs": [],
   "source": [
    "\"level\"\n",
    "\n",
    "\"leve@\""
   ]
  },
  {
   "cell_type": "code",
   "execution_count": null,
   "id": "b5a6a172",
   "metadata": {},
   "outputs": [],
   "source": [
    "\"character\"\n",
    "\n",
    "\"chara@ter\""
   ]
  },
  {
   "cell_type": "code",
   "execution_count": null,
   "id": "4f7cc921",
   "metadata": {},
   "outputs": [],
   "source": [
    "s = \"indore\""
   ]
  },
  {
   "cell_type": "code",
   "execution_count": 27,
   "id": "62c1e905",
   "metadata": {},
   "outputs": [],
   "source": [
    "import timeit"
   ]
  },
  {
   "cell_type": "code",
   "execution_count": 29,
   "id": "cd2f53fe",
   "metadata": {},
   "outputs": [
    {
     "data": {
      "text/plain": [
       "0.0032651999999870895"
      ]
     },
     "execution_count": 29,
     "metadata": {},
     "output_type": "execute_result"
    }
   ],
   "source": [
    "timeit.timeit('s.count(10)','s=list(range(100))',number=1000)"
   ]
  },
  {
   "cell_type": "code",
   "execution_count": 30,
   "id": "5d735cae",
   "metadata": {},
   "outputs": [
    {
     "data": {
      "text/plain": [
       "0.029329199999892808"
      ]
     },
     "execution_count": 30,
     "metadata": {},
     "output_type": "execute_result"
    }
   ],
   "source": [
    "timeit.timeit('s.count(10)','s=list(range(1000))',number=1000)"
   ]
  },
  {
   "cell_type": "code",
   "execution_count": 31,
   "id": "450ec47d",
   "metadata": {},
   "outputs": [
    {
     "data": {
      "text/plain": [
       "0.311721499999976"
      ]
     },
     "execution_count": 31,
     "metadata": {},
     "output_type": "execute_result"
    }
   ],
   "source": [
    "timeit.timeit('s.count(10)','s=list(range(10000))',number=1000)"
   ]
  },
  {
   "cell_type": "code",
   "execution_count": 35,
   "id": "97c9a31e",
   "metadata": {},
   "outputs": [
    {
     "data": {
      "text/plain": [
       "2.977493500000037"
      ]
     },
     "execution_count": 35,
     "metadata": {},
     "output_type": "execute_result"
    }
   ],
   "source": [
    "timeit.timeit('max(s)','s=list(range(100000))',number=1000)"
   ]
  },
  {
   "cell_type": "code",
   "execution_count": 36,
   "id": "1d98aad9",
   "metadata": {},
   "outputs": [
    {
     "name": "stdout",
     "output_type": "stream",
     "text": [
      " *** \n",
      "*   *\n",
      "*    \n",
      "* ***\n",
      "*   *\n",
      "*   *\n",
      " *** \n"
     ]
    }
   ],
   "source": [
    "i = 0\n",
    "\n",
    "while i < 7:\n",
    "    j = 0\n",
    "    while j < 5:\n",
    "        if ((i==0 or i==6) and (j==0 or j==4)) or ((i==1 or i==4 or i==5) and (j==1 or j==2 or j==3)) or ((i==2) and (j==1 or j==2 or j==3 or j==4)) or (i==3 and j==1):\n",
    "            print(\" \", end=\"\")\n",
    "        else:\n",
    "            print(\"*\", end=\"\")\n",
    "        j += 1\n",
    "    print()\n",
    "    i += 1"
   ]
  },
  {
   "cell_type": "code",
   "execution_count": 38,
   "id": "8fb3192c",
   "metadata": {},
   "outputs": [
    {
     "name": "stdout",
     "output_type": "stream",
     "text": [
      "*****\n",
      "*   *\n",
      "*   *\n",
      "*   *\n",
      "*   *\n",
      "*   *\n",
      "*****\n"
     ]
    }
   ],
   "source": [
    "z = 7\n",
    "y = 5\n",
    "i = 0\n",
    "while i < z:\n",
    "    j=0\n",
    "    while j < y:\n",
    "        if i == 0 or i == z - 1 or j == 0 or j == y - 1:\n",
    "            print(\"*\", end='')\n",
    "        else:\n",
    "            print(\" \", end='')\n",
    "        j += 1\n",
    "    print()\n",
    "    i += 1"
   ]
  },
  {
   "cell_type": "code",
   "execution_count": null,
   "id": "1a22a468",
   "metadata": {},
   "outputs": [],
   "source": []
  },
  {
   "cell_type": "code",
   "execution_count": null,
   "id": "e4bb3d1e",
   "metadata": {},
   "outputs": [],
   "source": []
  },
  {
   "cell_type": "code",
   "execution_count": null,
   "id": "b57139e0",
   "metadata": {},
   "outputs": [],
   "source": []
  },
  {
   "cell_type": "code",
   "execution_count": null,
   "id": "fa368812",
   "metadata": {},
   "outputs": [],
   "source": []
  }
 ],
 "metadata": {
  "kernelspec": {
   "display_name": "Python 3",
   "language": "python",
   "name": "python3"
  },
  "language_info": {
   "codemirror_mode": {
    "name": "ipython",
    "version": 3
   },
   "file_extension": ".py",
   "mimetype": "text/x-python",
   "name": "python",
   "nbconvert_exporter": "python",
   "pygments_lexer": "ipython3",
   "version": "3.8.10"
  }
 },
 "nbformat": 4,
 "nbformat_minor": 5
}
