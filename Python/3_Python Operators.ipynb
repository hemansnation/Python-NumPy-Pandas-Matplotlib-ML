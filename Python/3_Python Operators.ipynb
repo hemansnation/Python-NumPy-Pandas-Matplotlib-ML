{
 "cells": [
  {
   "cell_type": "markdown",
   "id": "044c0bda",
   "metadata": {},
   "source": [
    "**WAP to enter 2 numbers from user and print addition of them**"
   ]
  },
  {
   "cell_type": "code",
   "execution_count": 1,
   "id": "52ed6f72",
   "metadata": {},
   "outputs": [
    {
     "name": "stdout",
     "output_type": "stream",
     "text": [
      "Enter first number: 10\n",
      "Enter second number: 20\n",
      "1020\n"
     ]
    }
   ],
   "source": [
    "a = input(\"Enter first number: \")\n",
    "b = input(\"Enter second number: \")\n",
    "\n",
    "c = a + b\n",
    "\n",
    "print(c)"
   ]
  },
  {
   "cell_type": "code",
   "execution_count": 2,
   "id": "77e84ec5",
   "metadata": {},
   "outputs": [
    {
     "name": "stdout",
     "output_type": "stream",
     "text": [
      "<class 'str'>\n"
     ]
    }
   ],
   "source": [
    "print(type(a))"
   ]
  },
  {
   "cell_type": "code",
   "execution_count": 3,
   "id": "052a6242",
   "metadata": {},
   "outputs": [
    {
     "data": {
      "text/plain": [
       "'AB'"
      ]
     },
     "execution_count": 3,
     "metadata": {},
     "output_type": "execute_result"
    }
   ],
   "source": [
    "\"A\" + \"B\""
   ]
  },
  {
   "cell_type": "code",
   "execution_count": 4,
   "id": "46bdb024",
   "metadata": {},
   "outputs": [
    {
     "data": {
      "text/plain": [
       "'1020'"
      ]
     },
     "execution_count": 4,
     "metadata": {},
     "output_type": "execute_result"
    }
   ],
   "source": [
    "\"10\" + \"20\""
   ]
  },
  {
   "cell_type": "code",
   "execution_count": 5,
   "id": "2b9a381b",
   "metadata": {},
   "outputs": [
    {
     "name": "stdout",
     "output_type": "stream",
     "text": [
      "Enter first number: 10\n",
      "Enter second number: 20\n",
      "30\n"
     ]
    }
   ],
   "source": [
    "a = int(input(\"Enter first number: \"))\n",
    "b = int(input(\"Enter second number: \"))\n",
    "\n",
    "c = a + b\n",
    "\n",
    "print(c)"
   ]
  },
  {
   "cell_type": "code",
   "execution_count": 6,
   "id": "5e1b7ae4",
   "metadata": {},
   "outputs": [
    {
     "name": "stdout",
     "output_type": "stream",
     "text": [
      "Enter first number: 10\n",
      "Enter second number: 20\n",
      "Addition is = 30\n"
     ]
    }
   ],
   "source": [
    "a = int(input(\"Enter first number: \"))\n",
    "b = int(input(\"Enter second number: \"))\n",
    "\n",
    "c = a + b\n",
    "\n",
    "print(\"Addition is =\",c)"
   ]
  },
  {
   "cell_type": "code",
   "execution_count": 9,
   "id": "05ed4c36",
   "metadata": {},
   "outputs": [
    {
     "name": "stdout",
     "output_type": "stream",
     "text": [
      "Enter first number: 7\n",
      "Enter second number: 3\n",
      "Addition of 7 and 3 is 10\n"
     ]
    }
   ],
   "source": [
    "a = int(input(\"Enter first number: \"))\n",
    "b = int(input(\"Enter second number: \"))\n",
    "\n",
    "c = a + b\n",
    "\n",
    "print(\"Addition of \" + str(a) + \" and \" + str(b) + \" is \" + str(c))"
   ]
  },
  {
   "cell_type": "markdown",
   "id": "5035c96c",
   "metadata": {},
   "source": [
    "# Operators"
   ]
  },
  {
   "cell_type": "code",
   "execution_count": null,
   "id": "7116ceea",
   "metadata": {},
   "outputs": [],
   "source": [
    "1. Arithmetic Operators\n",
    "\n",
    "+ - * / % // **"
   ]
  },
  {
   "cell_type": "code",
   "execution_count": 10,
   "id": "d0fc81b1",
   "metadata": {},
   "outputs": [
    {
     "name": "stdout",
     "output_type": "stream",
     "text": [
      "1\n"
     ]
    }
   ],
   "source": [
    "# modulo\n",
    "\n",
    "print(7 % 2)"
   ]
  },
  {
   "cell_type": "code",
   "execution_count": 11,
   "id": "9300d602",
   "metadata": {},
   "outputs": [
    {
     "name": "stdout",
     "output_type": "stream",
     "text": [
      "3\n"
     ]
    }
   ],
   "source": [
    "print(11 % 4)"
   ]
  },
  {
   "cell_type": "code",
   "execution_count": 12,
   "id": "c967a8b8",
   "metadata": {},
   "outputs": [
    {
     "name": "stdout",
     "output_type": "stream",
     "text": [
      "3\n"
     ]
    }
   ],
   "source": [
    "# floor div\n",
    "\n",
    "print(7 // 2)   #  3.5  --  3"
   ]
  },
  {
   "cell_type": "code",
   "execution_count": 13,
   "id": "c5daa11a",
   "metadata": {},
   "outputs": [
    {
     "name": "stdout",
     "output_type": "stream",
     "text": [
      "5\n"
     ]
    }
   ],
   "source": [
    "print(17 // 3)"
   ]
  },
  {
   "cell_type": "code",
   "execution_count": 15,
   "id": "db504baa",
   "metadata": {},
   "outputs": [
    {
     "name": "stdout",
     "output_type": "stream",
     "text": [
      "8\n"
     ]
    }
   ],
   "source": [
    "# exponents\n",
    "\n",
    "print(2 ** 3)    # 8"
   ]
  },
  {
   "cell_type": "code",
   "execution_count": 16,
   "id": "ba1b0f5e",
   "metadata": {},
   "outputs": [
    {
     "name": "stdout",
     "output_type": "stream",
     "text": [
      "343\n"
     ]
    }
   ],
   "source": [
    "print(7 ** 3)"
   ]
  },
  {
   "cell_type": "code",
   "execution_count": null,
   "id": "f5005c28",
   "metadata": {},
   "outputs": [],
   "source": [
    "2. Assignment Operators"
   ]
  },
  {
   "cell_type": "code",
   "execution_count": null,
   "id": "f401fd95",
   "metadata": {},
   "outputs": [],
   "source": [
    "=  +=  -=  *=  /=  %=  //=  **="
   ]
  },
  {
   "cell_type": "code",
   "execution_count": 17,
   "id": "646395b9",
   "metadata": {},
   "outputs": [
    {
     "name": "stdout",
     "output_type": "stream",
     "text": [
      "15\n"
     ]
    }
   ],
   "source": [
    "a = 10\n",
    "\n",
    "a += 5   # a = a + 5\n",
    "\n",
    "print(a)"
   ]
  },
  {
   "cell_type": "code",
   "execution_count": null,
   "id": "2e0f8f33",
   "metadata": {},
   "outputs": [],
   "source": [
    "a++ X"
   ]
  },
  {
   "cell_type": "code",
   "execution_count": 18,
   "id": "09b8e79f",
   "metadata": {},
   "outputs": [
    {
     "name": "stdout",
     "output_type": "stream",
     "text": [
      "11\n"
     ]
    }
   ],
   "source": [
    "a = 10\n",
    "\n",
    "a += 1   # a = a + 1\n",
    "\n",
    "print(a)"
   ]
  },
  {
   "cell_type": "code",
   "execution_count": null,
   "id": "fe17193e",
   "metadata": {},
   "outputs": [],
   "source": [
    "3. Relational Operator"
   ]
  },
  {
   "cell_type": "code",
   "execution_count": null,
   "id": "207fb2b5",
   "metadata": {},
   "outputs": [],
   "source": [
    ">   <   >=   <=  ==  !="
   ]
  },
  {
   "cell_type": "code",
   "execution_count": 19,
   "id": "a55621d9",
   "metadata": {},
   "outputs": [
    {
     "name": "stdout",
     "output_type": "stream",
     "text": [
      "True\n"
     ]
    }
   ],
   "source": [
    "print(10 > 5)"
   ]
  },
  {
   "cell_type": "code",
   "execution_count": 20,
   "id": "6bdfab86",
   "metadata": {},
   "outputs": [
    {
     "name": "stdout",
     "output_type": "stream",
     "text": [
      "False\n"
     ]
    }
   ],
   "source": [
    "print(11 < 4)"
   ]
  },
  {
   "cell_type": "code",
   "execution_count": 21,
   "id": "1f97e91d",
   "metadata": {},
   "outputs": [
    {
     "name": "stdout",
     "output_type": "stream",
     "text": [
      "True\n"
     ]
    }
   ],
   "source": [
    "print(10 == 10.0)"
   ]
  },
  {
   "cell_type": "code",
   "execution_count": 22,
   "id": "8c989dbf",
   "metadata": {},
   "outputs": [
    {
     "name": "stdout",
     "output_type": "stream",
     "text": [
      "False\n"
     ]
    }
   ],
   "source": [
    "print(10 > 10.0)"
   ]
  },
  {
   "cell_type": "code",
   "execution_count": 23,
   "id": "898b7b96",
   "metadata": {},
   "outputs": [
    {
     "name": "stdout",
     "output_type": "stream",
     "text": [
      "False\n"
     ]
    }
   ],
   "source": [
    "print(10 != 10)"
   ]
  },
  {
   "cell_type": "code",
   "execution_count": null,
   "id": "641e5f61",
   "metadata": {},
   "outputs": [],
   "source": [
    "4. Boolean Operator"
   ]
  },
  {
   "cell_type": "code",
   "execution_count": null,
   "id": "cc066548",
   "metadata": {},
   "outputs": [],
   "source": [
    "True\n",
    "False"
   ]
  },
  {
   "cell_type": "code",
   "execution_count": 25,
   "id": "47bd5ef2",
   "metadata": {},
   "outputs": [
    {
     "data": {
      "text/plain": [
       "True"
      ]
     },
     "execution_count": 25,
     "metadata": {},
     "output_type": "execute_result"
    }
   ],
   "source": [
    "bool(1)"
   ]
  },
  {
   "cell_type": "code",
   "execution_count": 26,
   "id": "45a199ba",
   "metadata": {},
   "outputs": [
    {
     "data": {
      "text/plain": [
       "False"
      ]
     },
     "execution_count": 26,
     "metadata": {},
     "output_type": "execute_result"
    }
   ],
   "source": [
    "bool(0)"
   ]
  },
  {
   "cell_type": "code",
   "execution_count": 27,
   "id": "34dd888c",
   "metadata": {},
   "outputs": [
    {
     "data": {
      "text/plain": [
       "True"
      ]
     },
     "execution_count": 27,
     "metadata": {},
     "output_type": "execute_result"
    }
   ],
   "source": [
    "bool(-1)"
   ]
  },
  {
   "cell_type": "code",
   "execution_count": 28,
   "id": "203c2f18",
   "metadata": {},
   "outputs": [
    {
     "data": {
      "text/plain": [
       "True"
      ]
     },
     "execution_count": 28,
     "metadata": {},
     "output_type": "execute_result"
    }
   ],
   "source": [
    "bool(10)"
   ]
  },
  {
   "cell_type": "code",
   "execution_count": null,
   "id": "06ab8ae2",
   "metadata": {},
   "outputs": [],
   "source": [
    "bool(\"A\")\n",
    "\n",
    "#   ASCII\n",
    "10 / 2 - 1010\n",
    "A / 2  - ?\n",
    "\n",
    "A - 65\n",
    "B - 66\n",
    "\n",
    "Z - 90\n",
    "\n",
    "[\n",
    "]\n",
    "{\n",
    "}\n",
    "\n",
    "a - 97\n",
    "z - 122\n",
    "\n",
    "space - 32\n",
    "\n",
    "\n",
    "SI unit - "
   ]
  },
  {
   "cell_type": "code",
   "execution_count": 29,
   "id": "eb5f2c29",
   "metadata": {},
   "outputs": [
    {
     "data": {
      "text/plain": [
       "True"
      ]
     },
     "execution_count": 29,
     "metadata": {},
     "output_type": "execute_result"
    }
   ],
   "source": [
    "bool(\"A\")"
   ]
  },
  {
   "cell_type": "code",
   "execution_count": 30,
   "id": "62abac74",
   "metadata": {},
   "outputs": [
    {
     "data": {
      "text/plain": [
       "True"
      ]
     },
     "execution_count": 30,
     "metadata": {},
     "output_type": "execute_result"
    }
   ],
   "source": [
    "bool(\" \")"
   ]
  },
  {
   "cell_type": "code",
   "execution_count": 31,
   "id": "248663e2",
   "metadata": {},
   "outputs": [
    {
     "data": {
      "text/plain": [
       "False"
      ]
     },
     "execution_count": 31,
     "metadata": {},
     "output_type": "execute_result"
    }
   ],
   "source": [
    "bool(\"\")"
   ]
  },
  {
   "cell_type": "code",
   "execution_count": null,
   "id": "9c05bec4",
   "metadata": {},
   "outputs": [],
   "source": [
    "5. Logical Operator"
   ]
  },
  {
   "cell_type": "code",
   "execution_count": null,
   "id": "b0a4160a",
   "metadata": {},
   "outputs": [],
   "source": [
    "not\n",
    "and\n",
    "or"
   ]
  },
  {
   "cell_type": "code",
   "execution_count": 32,
   "id": "20e424ce",
   "metadata": {},
   "outputs": [
    {
     "name": "stdout",
     "output_type": "stream",
     "text": [
      "False\n"
     ]
    }
   ],
   "source": [
    "print(not True)"
   ]
  },
  {
   "cell_type": "code",
   "execution_count": 33,
   "id": "3cf45253",
   "metadata": {},
   "outputs": [
    {
     "name": "stdout",
     "output_type": "stream",
     "text": [
      "True\n"
     ]
    }
   ],
   "source": [
    "print(not False)"
   ]
  },
  {
   "cell_type": "code",
   "execution_count": 34,
   "id": "a667663c",
   "metadata": {},
   "outputs": [
    {
     "name": "stdout",
     "output_type": "stream",
     "text": [
      "False\n"
     ]
    }
   ],
   "source": [
    "print(not (10>5) )"
   ]
  },
  {
   "cell_type": "code",
   "execution_count": null,
   "id": "9831a756",
   "metadata": {},
   "outputs": [],
   "source": [
    "Truth Table\n",
    "and\n",
    "\n",
    "0  and  0  -  0\n",
    "0  and  1  -  0\n",
    "1  and  0  -  0\n",
    "1  and  1  -  1"
   ]
  },
  {
   "cell_type": "code",
   "execution_count": null,
   "id": "b639b285",
   "metadata": {},
   "outputs": [],
   "source": [
    "0 - False\n",
    "1 - True"
   ]
  },
  {
   "cell_type": "code",
   "execution_count": 35,
   "id": "12704b42",
   "metadata": {},
   "outputs": [
    {
     "name": "stdout",
     "output_type": "stream",
     "text": [
      "False\n"
     ]
    }
   ],
   "source": [
    "print(True and False)"
   ]
  },
  {
   "cell_type": "code",
   "execution_count": 36,
   "id": "94f4bceb",
   "metadata": {},
   "outputs": [
    {
     "name": "stdout",
     "output_type": "stream",
     "text": [
      "False\n"
     ]
    }
   ],
   "source": [
    "print(True and False and True)"
   ]
  },
  {
   "cell_type": "code",
   "execution_count": null,
   "id": "5483bdd3",
   "metadata": {},
   "outputs": [],
   "source": [
    "Truth Table\n",
    "or\n",
    "\n",
    "0  or  0  -  0\n",
    "0  or  1  -  1\n",
    "1  or  0  -  1\n",
    "1  or  1  -  1"
   ]
  },
  {
   "cell_type": "code",
   "execution_count": 37,
   "id": "efb61f09",
   "metadata": {},
   "outputs": [
    {
     "name": "stdout",
     "output_type": "stream",
     "text": [
      "True\n"
     ]
    }
   ],
   "source": [
    "print(True or False)"
   ]
  },
  {
   "cell_type": "code",
   "execution_count": 38,
   "id": "48c96f02",
   "metadata": {},
   "outputs": [
    {
     "name": "stdout",
     "output_type": "stream",
     "text": [
      "True\n"
     ]
    }
   ],
   "source": [
    "print(False or False or True)"
   ]
  },
  {
   "cell_type": "code",
   "execution_count": null,
   "id": "43d048b6",
   "metadata": {},
   "outputs": [],
   "source": [
    "6. Bitwise Operator\n",
    "\n",
    "&   Bitwise and\n",
    "|   Bitwise or\n",
    "^   Bitwise xor\n",
    "<<  Bitwise left shift\n",
    ">>  Bitwise right shift"
   ]
  },
  {
   "cell_type": "code",
   "execution_count": null,
   "id": "69857d50",
   "metadata": {},
   "outputs": [],
   "source": [
    "7. Membership Operator\n",
    "\n",
    "in\n",
    "not in"
   ]
  },
  {
   "cell_type": "code",
   "execution_count": null,
   "id": "56ec9296",
   "metadata": {},
   "outputs": [],
   "source": [
    "8. Identity Operator\n",
    "\n",
    "is\n",
    "not is"
   ]
  },
  {
   "cell_type": "code",
   "execution_count": null,
   "id": "ea5eaa4a",
   "metadata": {},
   "outputs": [],
   "source": []
  }
 ],
 "metadata": {
  "kernelspec": {
   "display_name": "Python 3",
   "language": "python",
   "name": "python3"
  },
  "language_info": {
   "codemirror_mode": {
    "name": "ipython",
    "version": 3
   },
   "file_extension": ".py",
   "mimetype": "text/x-python",
   "name": "python",
   "nbconvert_exporter": "python",
   "pygments_lexer": "ipython3",
   "version": "3.8.10"
  }
 },
 "nbformat": 4,
 "nbformat_minor": 5
}
